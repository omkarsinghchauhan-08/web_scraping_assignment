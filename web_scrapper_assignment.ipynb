{
 "cells": [
  {
   "cell_type": "code",
   "execution_count": 2,
   "id": "7ca7a574-2060-4349-9a53-a6522d832d27",
   "metadata": {},
   "outputs": [],
   "source": [
    "# what is web scrapping \n",
    "#ans - Web scraping is an automatic method to obtain large amounts of data from websites. Most of this data is unstructured data in an HTML format which is then converted into structured data in a spreadsheet or a database so that it can be used in various applications. There are many different ways to perform web scraping to obtain data from websites. These include using online services, particular API’s or even creating your code for web scraping from scratch. Many large websites, like Google, Twitter, Facebook, StackOverflow, etc. have API’s that allow you to access their data in a structured format. This is the best option, but there are other sites that don’t allow users to access large amounts of data in a structured form or they are simply not that technologically advanced. In that situation, it’s best to use Web Scraping to scrape the website for data.\n",
    "# why it is used -  Web scraping can help companies gather the correct contact information from their target market—including names, job titles, email addresses, and cellphone numbers. Then, they can reach out to these contacts and generate more leads and sales for their business. \n",
    "# three AREA where web scrapping is used -\n",
    "# 1- Price Intelligence\n",
    "# 2- Market research\n",
    "# 3- Real Estate \n",
    "\n",
    "\n"
   ]
  },
  {
   "cell_type": "code",
   "execution_count": 3,
   "id": "1e60fabb-3183-4d31-a034-ac3741193d2c",
   "metadata": {},
   "outputs": [],
   "source": [
    "# ques 2 different methods is used for web scrapping \n",
    "# ans -\n",
    "# HTTP programming.\n",
    "# HTML parsing.\n",
    "# DOM parsing.\n",
    "# Vertical aggregation.\n",
    "# Semantic annotation recognizing."
   ]
  },
  {
   "cell_type": "code",
   "execution_count": 4,
   "id": "8ebdd66f-347d-4b17-b9bf-84d5295c5b73",
   "metadata": {},
   "outputs": [],
   "source": [
    "# ques 3 What is a Beautiful Soup ? Why is it used ? \n",
    "#ans - The Beautiful Soup is a python library which is named after a Lewis Carroll poem of the same name in “Alice’s Adventures in the Wonderland”. Beautiful Soup is a python package and as the name suggests, parses the unwanted data and helps to organize and format the messy web data by fixing bad HTML and present to us in an easily-traversible XML structures.\n",
    "\n",
    "# why beautiful soup is used ? \n",
    "#ans-Beautiful Soup is a Python library that makes it easy to scrape information from web pages. It sits atop an HTML or XML parser and provides Pythonic idioms for iterating, searching, and modifying the parse tree.\n"
   ]
  },
  {
   "cell_type": "code",
   "execution_count": 5,
   "id": "b45208ad-ef2b-43e8-82a2-ff43ae6efafe",
   "metadata": {},
   "outputs": [],
   "source": [
    "# ques 4 why flask is used for web scrapping project ?\n",
    "# ans- Flask is a lightweight framework to build websites. We'll use this to parse our collected data and display it as HTML in a new HTML file. The requests module allows us to send http requests to the website we want to scrape. The first line imports the Flask class and the render_template method from the flask library.24-Jan-2019\n"
   ]
  },
  {
   "cell_type": "code",
   "execution_count": 6,
   "id": "a5d54307-2abc-400c-8ed2-69b6bb3310ea",
   "metadata": {},
   "outputs": [],
   "source": [
    "# ques 5 write the name of aws service used in this project . also explain the use of services.\n",
    "#ans - 1. Amazon EC2-\n",
    "#         You don’t have to invest in costly physical services. Instead, you can create virtual machines with Amazon EC2 while managing other server features such as ports, security, and storage. Spend less time maintaining your servers and more time on your strategic projects. Invariably, Amazon EC2 is one of the most popular and fastest-growing of the many AWS services.\n",
    "#      2. Amazon RDS\n",
    "#         The Amazon Relational Database Service (RDS) was designed to make your infrastructure more user friendly. By using this AWS service, you can create dedicated instances of databases within minutes. Not to mention, these instances can support multiple database engines including SQL Server, SQL, PostgreSQL, and more. Take your time back and stop spending hours maintaining your database servers. Let Amazon RDS do the work for you.\n",
    "#      3. Amazon Simple Storage Service (S3)\n",
    "#        We are living in the age of big data. Some call it the incessant data deluge. As a result, we need more storage than ever before. Amazon Simple Storage Service (S3) has come to the rescue. It makes sense why this would be included in our list of the top 10 most used AWS services. It offers a highly secure and redundant file storage service. It also stores data in three data centers within a specific region. And, there’s more. Amazon S3 also offers integrations to help prevent breaches by way of PCI-DSS, HIPAA/HITECH, and FedRAMP. You get data flexibility without almost zero latency.\n",
    "#      4. Amazon CloudFront\n",
    "#        This service helps to improve website speed and access to cloud-based data. CloudFront works as a Global Content Delivery Service (CDN) to deliver content efficiently to end users. You’ll notice a significant increase in web page loading speed with this service. It even pulls website static files from data centers throughout the world."
   ]
  },
  {
   "cell_type": "code",
   "execution_count": null,
   "id": "5a892c21-3039-4a19-9bfc-d53589b6e9a7",
   "metadata": {},
   "outputs": [],
   "source": []
  }
 ],
 "metadata": {
  "kernelspec": {
   "display_name": "Python 3 (ipykernel)",
   "language": "python",
   "name": "python3"
  },
  "language_info": {
   "codemirror_mode": {
    "name": "ipython",
    "version": 3
   },
   "file_extension": ".py",
   "mimetype": "text/x-python",
   "name": "python",
   "nbconvert_exporter": "python",
   "pygments_lexer": "ipython3",
   "version": "3.10.8"
  }
 },
 "nbformat": 4,
 "nbformat_minor": 5
}
